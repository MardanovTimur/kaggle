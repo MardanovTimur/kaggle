{
 "cells": [
  {
   "cell_type": "code",
   "execution_count": 2,
   "metadata": {},
   "outputs": [],
   "source": [
    "import numpy as np\n",
    "import pandas as pd\n",
    "import keras\n",
    "import re\n",
    "import tensorflow as tf\n",
    "from matplotlib import pyplot as plt\n",
    "\n",
    "from nltk.corpus import stopwords\n",
    "from keras.preprocessing.text import Tokenizer\n",
    "from pymystem3 import Mystem\n",
    "from sklearn.model_selection import train_test_split\n",
    "stemmer = Mystem()"
   ]
  },
  {
   "cell_type": "code",
   "execution_count": 3,
   "metadata": {},
   "outputs": [],
   "source": [
    "filename = 'data/lenta-ru-news.csv'\n"
   ]
  },
  {
   "cell_type": "code",
   "execution_count": 4,
   "metadata": {},
   "outputs": [
    {
     "name": "stderr",
     "output_type": "stream",
     "text": [
      "/home/timur/.local/share/virtualenvs/kaggle-1wSJiHo3/lib/python3.6/site-packages/IPython/core/interactiveshell.py:3051: DtypeWarning: Columns (3) have mixed types. Specify dtype option on import or set low_memory=False.\n",
      "  interactivity=interactivity, compiler=compiler, result=result)\n"
     ]
    }
   ],
   "source": [
    "df = pd.read_csv(filename)"
   ]
  },
  {
   "cell_type": "code",
   "execution_count": 5,
   "metadata": {},
   "outputs": [
    {
     "name": "stdout",
     "output_type": "stream",
     "text": [
      "<class 'pandas.core.frame.DataFrame'>\n",
      "RangeIndex: 800975 entries, 0 to 800974\n",
      "Data columns (total 6 columns):\n",
      "url      800975 non-null object\n",
      "title    800975 non-null object\n",
      "text     800970 non-null object\n",
      "topic    738973 non-null object\n",
      "tags     773756 non-null object\n",
      "date     800975 non-null object\n",
      "dtypes: object(6)\n",
      "memory usage: 36.7+ MB\n"
     ]
    }
   ],
   "source": [
    "df.info()"
   ]
  },
  {
   "cell_type": "code",
   "execution_count": 6,
   "metadata": {},
   "outputs": [
    {
     "data": {
      "text/plain": [
       "Index(['url', 'title', 'text', 'topic', 'tags', 'date'], dtype='object')"
      ]
     },
     "execution_count": 6,
     "metadata": {},
     "output_type": "execute_result"
    }
   ],
   "source": [
    "df.columns"
   ]
  },
  {
   "cell_type": "code",
   "execution_count": 7,
   "metadata": {},
   "outputs": [
    {
     "data": {
      "text/plain": [
       "800975"
      ]
     },
     "execution_count": 7,
     "metadata": {},
     "output_type": "execute_result"
    }
   ],
   "source": [
    "len(df.index)"
   ]
  },
  {
   "cell_type": "code",
   "execution_count": 8,
   "metadata": {},
   "outputs": [],
   "source": [
    "def year_extraction(row):\n",
    "    return int(row['date'][0:4])"
   ]
  },
  {
   "cell_type": "code",
   "execution_count": 9,
   "metadata": {},
   "outputs": [],
   "source": [
    "df['year'] = df.apply(lambda row: year_extraction(row), axis=1)\n"
   ]
  },
  {
   "cell_type": "code",
   "execution_count": 10,
   "metadata": {},
   "outputs": [
    {
     "data": {
      "text/plain": [
       "Index(['url', 'title', 'text', 'topic', 'tags', 'date', 'year'], dtype='object')"
      ]
     },
     "execution_count": 10,
     "metadata": {},
     "output_type": "execute_result"
    }
   ],
   "source": [
    "df.columns"
   ]
  },
  {
   "cell_type": "code",
   "execution_count": 11,
   "metadata": {},
   "outputs": [
    {
     "data": {
      "text/html": [
       "<div>\n",
       "<style scoped>\n",
       "    .dataframe tbody tr th:only-of-type {\n",
       "        vertical-align: middle;\n",
       "    }\n",
       "\n",
       "    .dataframe tbody tr th {\n",
       "        vertical-align: top;\n",
       "    }\n",
       "\n",
       "    .dataframe thead th {\n",
       "        text-align: right;\n",
       "    }\n",
       "</style>\n",
       "<table border=\"1\" class=\"dataframe\">\n",
       "  <thead>\n",
       "    <tr style=\"text-align: right;\">\n",
       "      <th></th>\n",
       "      <th>url</th>\n",
       "      <th>title</th>\n",
       "      <th>text</th>\n",
       "      <th>topic</th>\n",
       "      <th>tags</th>\n",
       "      <th>date</th>\n",
       "      <th>year</th>\n",
       "    </tr>\n",
       "  </thead>\n",
       "  <tbody>\n",
       "    <tr>\n",
       "      <th>0</th>\n",
       "      <td>https://lenta.ru/news/1914/09/16/hungarnn/</td>\n",
       "      <td>1914. Русские войска вступили в пределы Венгрии</td>\n",
       "      <td>Бои у Сопоцкина и Друскеник закончились отступ...</td>\n",
       "      <td>Библиотека</td>\n",
       "      <td>Первая мировая</td>\n",
       "      <td>1914/09/16</td>\n",
       "      <td>1914</td>\n",
       "    </tr>\n",
       "    <tr>\n",
       "      <th>1</th>\n",
       "      <td>https://lenta.ru/news/1914/09/16/lermontov/</td>\n",
       "      <td>1914. Празднование столетия М.Ю. Лермонтова от...</td>\n",
       "      <td>Министерство народного просвещения, в виду про...</td>\n",
       "      <td>Библиотека</td>\n",
       "      <td>Первая мировая</td>\n",
       "      <td>1914/09/16</td>\n",
       "      <td>1914</td>\n",
       "    </tr>\n",
       "    <tr>\n",
       "      <th>2</th>\n",
       "      <td>https://lenta.ru/news/1914/09/17/nesteroff/</td>\n",
       "      <td>1914. Das ist Nesteroff!</td>\n",
       "      <td>Штабс-капитан П. Н. Нестеров на днях, увидев в...</td>\n",
       "      <td>Библиотека</td>\n",
       "      <td>Первая мировая</td>\n",
       "      <td>1914/09/17</td>\n",
       "      <td>1914</td>\n",
       "    </tr>\n",
       "    <tr>\n",
       "      <th>3</th>\n",
       "      <td>https://lenta.ru/news/1914/09/17/bulldogn/</td>\n",
       "      <td>1914. Бульдог-гонец под Льежем</td>\n",
       "      <td>Фотограф-корреспондент Daily Mirror рассказыва...</td>\n",
       "      <td>Библиотека</td>\n",
       "      <td>Первая мировая</td>\n",
       "      <td>1914/09/17</td>\n",
       "      <td>1914</td>\n",
       "    </tr>\n",
       "    <tr>\n",
       "      <th>4</th>\n",
       "      <td>https://lenta.ru/news/1914/09/18/zver/</td>\n",
       "      <td>1914. Под Люблином пойман швабский зверь</td>\n",
       "      <td>Лица, приехавшие в Варшаву из Люблина, передаю...</td>\n",
       "      <td>Библиотека</td>\n",
       "      <td>Первая мировая</td>\n",
       "      <td>1914/09/18</td>\n",
       "      <td>1914</td>\n",
       "    </tr>\n",
       "  </tbody>\n",
       "</table>\n",
       "</div>"
      ],
      "text/plain": [
       "                                           url  \\\n",
       "0   https://lenta.ru/news/1914/09/16/hungarnn/   \n",
       "1  https://lenta.ru/news/1914/09/16/lermontov/   \n",
       "2  https://lenta.ru/news/1914/09/17/nesteroff/   \n",
       "3   https://lenta.ru/news/1914/09/17/bulldogn/   \n",
       "4       https://lenta.ru/news/1914/09/18/zver/   \n",
       "\n",
       "                                               title  \\\n",
       "0  1914. Русские войска вступили в пределы Венгрии     \n",
       "1  1914. Празднование столетия М.Ю. Лермонтова от...   \n",
       "2                           1914. Das ist Nesteroff!   \n",
       "3                    1914. Бульдог-гонец под Льежем    \n",
       "4           1914. Под Люблином пойман швабский зверь   \n",
       "\n",
       "                                                text       topic  \\\n",
       "0  Бои у Сопоцкина и Друскеник закончились отступ...  Библиотека   \n",
       "1  Министерство народного просвещения, в виду про...  Библиотека   \n",
       "2  Штабс-капитан П. Н. Нестеров на днях, увидев в...  Библиотека   \n",
       "3  Фотограф-корреспондент Daily Mirror рассказыва...  Библиотека   \n",
       "4  Лица, приехавшие в Варшаву из Люблина, передаю...  Библиотека   \n",
       "\n",
       "             tags        date  year  \n",
       "0  Первая мировая  1914/09/16  1914  \n",
       "1  Первая мировая  1914/09/16  1914  \n",
       "2  Первая мировая  1914/09/17  1914  \n",
       "3  Первая мировая  1914/09/17  1914  \n",
       "4  Первая мировая  1914/09/18  1914  "
      ]
     },
     "execution_count": 11,
     "metadata": {},
     "output_type": "execute_result"
    }
   ],
   "source": [
    "df.head()\n"
   ]
  },
  {
   "cell_type": "code",
   "execution_count": 12,
   "metadata": {},
   "outputs": [
    {
     "data": {
      "text/plain": [
       "year\n",
       "1914        5\n",
       "1999     3081\n",
       "2000    16176\n",
       "2001    21974\n",
       "2002    22179\n",
       "2003    21557\n",
       "2004    24386\n",
       "2005    30718\n",
       "2006    35964\n",
       "2007    36029\n",
       "2008    50389\n",
       "2009    51343\n",
       "2010    44587\n",
       "2011    44822\n",
       "2012    46047\n",
       "2013    43297\n",
       "2014    38075\n",
       "2015    44766\n",
       "2016    63108\n",
       "2017    58792\n",
       "2018    43951\n",
       "2019    59729\n",
       "dtype: int64"
      ]
     },
     "execution_count": 12,
     "metadata": {},
     "output_type": "execute_result"
    }
   ],
   "source": [
    "year_count_summary = df.groupby(['year']).size()\n",
    "year_count_summary"
   ]
  },
  {
   "cell_type": "code",
   "execution_count": 13,
   "metadata": {
    "scrolled": false
   },
   "outputs": [
    {
     "data": {
      "text/plain": [
       "<BarContainer object of 22 artists>"
      ]
     },
     "execution_count": 13,
     "metadata": {},
     "output_type": "execute_result"
    },
    {
     "data": {
      "image/png": "[encoded data removed]",
      "text/plain": [
       "<Figure size 1440x720 with 1 Axes>"
      ]
     },
     "metadata": {
      "needs_background": "light"
     },
     "output_type": "display_data"
    }
   ],
   "source": [
    "plt.figure(figsize=(20, 10))\n",
    "plt.bar(year_count_summary.index, year_count_summary)\n",
    "# новостей больше в определенные года по причинам"
   ]
  },
  {
   "cell_type": "code",
   "execution_count": 14,
   "metadata": {},
   "outputs": [],
   "source": [
    "def year_condition(row):\n",
    "    return row['year'] > 1999\n"
   ]
  },
  {
   "cell_type": "code",
   "execution_count": 15,
   "metadata": {},
   "outputs": [],
   "source": [
    "df = df[df['year'] > 1999]"
   ]
  },
  {
   "cell_type": "code",
   "execution_count": 16,
   "metadata": {},
   "outputs": [],
   "source": [
    "tags_count_chart = df[df['tags'] != 'Все'].groupby(['tags']).size()"
   ]
  },
  {
   "cell_type": "code",
   "execution_count": 17,
   "metadata": {},
   "outputs": [
    {
     "data": {
      "image/png": "[encoded data removed]",
      "text/plain": [
       "<Figure size 640x480 with 1 Axes>"
      ]
     },
     "metadata": {},
     "output_type": "display_data"
    }
   ],
   "source": [
    "plt.rcdefaults()\n",
    "fig, ax = plt.subplots()\n",
    "\n",
    "fig.figsize = (5, 20)\n",
    "ax.barh(tags_count_chart.index, tags_count_chart, align='center')\n",
    "ax.set_yticks(tags_count_chart.index)\n",
    "ax.invert_yaxis()\n",
    "ax.set_xlabel('Count of articles')\n",
    "ax.set_title('Count of articles by tags (without Все)')\n",
    "plt.show()"
   ]
  },
  {
   "cell_type": "code",
   "execution_count": 18,
   "metadata": {},
   "outputs": [
    {
     "name": "stdout",
     "output_type": "stream",
     "text": [
      "Count of unique tags is:  93\n"
     ]
    }
   ],
   "source": [
    "print('Count of unique tags is: ', len(tags_count_chart.index))"
   ]
  },
  {
   "cell_type": "code",
   "execution_count": 19,
   "metadata": {},
   "outputs": [
    {
     "name": "stdout",
     "output_type": "stream",
     "text": [
      "\n",
      "tags                        1\n",
      "69-я параллель           3635\n",
      "Coцсети                   204\n",
      "Авто                      310\n",
      "Автобизнес                 28\n",
      "Аналитика рынка           348\n",
      "Английский футбол        1344\n",
      "Белоруссия               9146\n",
      "Бизнес                   3549\n",
      "Бокс и ММА                479\n",
      "Вещи                      514\n",
      "Вирусные ролики            93\n",
      "Вкусы                    1047\n",
      "Внешний вид                 3\n",
      "Вооружение                 15\n",
      "Выборы                   2351\n",
      "Гаджеты                  2380\n",
      "Город                      41\n",
      "Госрегулирование        15476\n",
      "Госэкономика             1296\n",
      "Дача                      905\n",
      "Движение                 3254\n",
      "Деловой климат           1639\n",
      "Деньги                    909\n",
      "Достижения                524\n",
      "Еда                       516\n",
      "Жизнь                    1724\n",
      "Закавказье               3063\n",
      "Звери                    2293\n",
      "Зимние виды              2094\n",
      "Игры                        1\n",
      "Инновации                 742\n",
      "Инструменты              9319\n",
      "Интернет                 1940\n",
      "Искусство                 561\n",
      "История                    98\n",
      "Казахстан                5180\n",
      "Квартира                  376\n",
      "Киберпреступность       10720\n",
      "Кино                     1294\n",
      "Книги                    3798\n",
      "Конфликты                4311\n",
      "Космос                   3209\n",
      "Криминал                  140\n",
      "Культура                 3265\n",
      "Летние виды              6567\n",
      "Люди                      508\n",
      "Мемы                     2566\n",
      "Мир                       854\n",
      "Мировой бизнес              6\n",
      "Мировой опыт              853\n",
      "Мнения                    520\n",
      "Молдавия                 1348\n",
      "Москва                   7406\n",
      "Музыка                     46\n",
      "Наследие                 7932\n",
      "Наука                       6\n",
      "Нацпроекты              35202\n",
      "Общество                 2457\n",
      "Оружие                    853\n",
      "Офис                       60\n",
      "Первая мировая          40716\n",
      "Политика                 2376\n",
      "Полиция и спецслужбы     2048\n",
      "Пресса                    269\n",
      "Преступная Россия        5057\n",
      "Преступность             1464\n",
      "Прибалтика                 36\n",
      "Производители           19825\n",
      "Происшествия             3516\n",
      "Регионы                   443\n",
      "Реклама                  1009\n",
      "Россия                   2834\n",
      "Рынки                    9133\n",
      "Следствие и суд          3664\n",
      "События                   663\n",
      "Софт                      437\n",
      "Социальная сфера         1312\n",
      "Средняя Азия             2566\n",
      "Стиль                      27\n",
      "Страноведение            4391\n",
      "ТВ и радио               1393\n",
      "Театр                    1355\n",
      "Техника                    94\n",
      "Туризм                  22523\n",
      "Украина                   156\n",
      "Финансы компаний           33\n",
      "Фотография              15239\n",
      "Футбол                   1338\n",
      "Хоккей                    679\n",
      "Часы                       61\n",
      "Экология                  797\n",
      "Экономика                3635\n",
      "Coцсети                   204\n",
      "Авто                      310\n",
      "Автобизнес                 28\n",
      "Аналитика рынка           348\n",
      "Английский футбол        1344\n",
      "Белоруссия               9146\n",
      "Бизнес                   3549\n",
      "Бокс и ММА                479\n",
      "Вещи                      514\n",
      "Вирусные ролики            93\n",
      "Вкусы                    1047\n",
      "Внешний вид                 3\n",
      "Вооружение                 15\n",
      "Выборы                   2351\n",
      "Гаджеты                  2380\n",
      "Город                      41\n",
      "Госрегулирование        15476\n",
      "Госэкономика             1296\n",
      "Дача                      905\n",
      "Движение                 3254\n",
      "Деловой климат           1639\n",
      "Деньги                    909\n",
      "Достижения                524\n",
      "Еда                       516\n",
      "Жизнь                    1724\n",
      "Закавказье               3063\n",
      "Звери                    2293\n",
      "Зимние виды              2094\n",
      "Игры                        1\n",
      "Инновации                 742\n",
      "Инструменты              9319\n",
      "Интернет                 1940\n",
      "Искусство                 561\n",
      "История                    98\n",
      "Казахстан                5180\n",
      "Квартира                  376\n",
      "Киберпреступность       10720\n",
      "Кино                     1294\n",
      "Книги                    3798\n",
      "Конфликты                4311\n",
      "Космос                   3209\n",
      "Криминал                  140\n",
      "Культура                 3265\n",
      "Летние виды              6567\n",
      "Люди                      508\n",
      "Мемы                     2566\n",
      "Мир                       854\n",
      "Мировой бизнес              6\n",
      "Мировой опыт              853\n",
      "Мнения                    520\n",
      "Молдавия                 1348\n",
      "Москва                   7406\n",
      "Музыка                     46\n",
      "Наследие                 7932\n",
      "Наука                       6\n",
      "Нацпроекты              35202\n",
      "Общество                 2457\n",
      "Оружие                    853\n",
      "Офис                       60\n",
      "Первая мировая          40716\n",
      "Политика                 2376\n",
      "Полиция и спецслужбы     2048\n",
      "Пресса                    269\n",
      "Преступная Россия        5057\n",
      "Преступность             1464\n",
      "Прибалтика                 36\n",
      "Производители           19825\n",
      "Происшествия             3516\n",
      "Регионы                   443\n",
      "Реклама                  1009\n",
      "Россия                   2834\n",
      "Рынки                    9133\n",
      "Следствие и суд          3664\n",
      "События                   663\n",
      "Софт                      437\n",
      "Социальная сфера         1312\n",
      "Средняя Азия             2566\n",
      "Стиль                      27\n",
      "Страноведение            4391\n",
      "ТВ и радио               1393\n",
      "Театр                    1355\n",
      "Техника                    94\n",
      "Туризм                  22523\n",
      "Украина                   156\n",
      "Финансы компаний           33\n",
      "Фотография              15239\n",
      "Футбол                   1338\n",
      "Хоккей                    679\n",
      "Часы                       61\n",
      "Экология                  797\n",
      "Экономика               ...  \n",
      "Явления                  3216\n",
      "Length: 93, dtype: int64\n"
     ]
    }
   ],
   "source": [
    "with pd.option_context('display.max_rows', -1, 'display.max_columns', 5):\n",
    "    print(tags_count_chart)"
   ]
  },
  {
   "cell_type": "code",
   "execution_count": 20,
   "metadata": {},
   "outputs": [
    {
     "data": {
      "text/plain": [
       "year\n",
       "2000    16176\n",
       "2001    21974\n",
       "2002    22178\n",
       "2003    21557\n",
       "2004    24385\n",
       "2005    30696\n",
       "2006    35938\n",
       "2007    36011\n",
       "2008    50380\n",
       "2009    51303\n",
       "2010    44581\n",
       "2011    44811\n",
       "2012    46017\n",
       "2013     2707\n",
       "2014      291\n",
       "2015      183\n",
       "2016      353\n",
       "2017      749\n",
       "2018      229\n",
       "2019      162\n",
       "dtype: int64"
      ]
     },
     "execution_count": 20,
     "metadata": {},
     "output_type": "execute_result"
    }
   ],
   "source": [
    "df[df['tags'] == 'Все'].groupby(['year']).size()\n",
    "# Категория Все - когда не можем однозначно отнести новость к этому классу."
   ]
  },
  {
   "cell_type": "code",
   "execution_count": 21,
   "metadata": {},
   "outputs": [
    {
     "name": "stdout",
     "output_type": "stream",
     "text": [
      "Топики -  topic\n",
      "69-я параллель         1268\n",
      "Библиотека               60\n",
      "Бизнес                 7399\n",
      "Бывший СССР           53402\n",
      "Дом                   21734\n",
      "Из жизни              27605\n",
      "Интернет и СМИ        44362\n",
      "Крым                    666\n",
      "Культпросвет            340\n",
      "Культура              53797\n",
      "Легпром                 114\n",
      "МедНовости                1\n",
      "Мир                  135829\n",
      "Наука и техника       53136\n",
      "Оружие                    3\n",
      "Путешествия            6408\n",
      "Россия               158908\n",
      "Силовые структуры     19596\n",
      "Сочи                      1\n",
      "Спорт                 64413\n",
      "Ценности               7766\n",
      "ЧМ-2014                   2\n",
      "Экономика             79077\n",
      "dtype: int64\n"
     ]
    }
   ],
   "source": [
    "print('Топики - ', df.groupby('topic').size())"
   ]
  },
  {
   "cell_type": "code",
   "execution_count": 22,
   "metadata": {},
   "outputs": [
    {
     "data": {
      "text/plain": [
       "year\n",
       "2016      5\n",
       "2017    573\n",
       "2018     88\n",
       "dtype: int64"
      ]
     },
     "execution_count": 22,
     "metadata": {},
     "output_type": "execute_result"
    }
   ],
   "source": [
    "df[df['topic'] == 'Крым'].groupby(['year']).size()\n",
    "# новости про крым в определенные года."
   ]
  },
  {
   "cell_type": "code",
   "execution_count": 23,
   "metadata": {},
   "outputs": [],
   "source": [
    "import pickle\n",
    "with open('data/saved_dataframe.dump', 'wb') as file:\n",
    "    pickle.dump(df, file)\n"
   ]
  },
  {
   "cell_type": "code",
   "execution_count": 24,
   "metadata": {},
   "outputs": [
    {
     "data": {
      "text/plain": [
       "Index(['url', 'title', 'text', 'topic', 'tags', 'date', 'year'], dtype='object')"
      ]
     },
     "execution_count": 24,
     "metadata": {},
     "output_type": "execute_result"
    }
   ],
   "source": [
    "df.columns\n"
   ]
  },
  {
   "cell_type": "code",
   "execution_count": 36,
   "metadata": {},
   "outputs": [
    {
     "name": "stdout",
     "output_type": "stream",
     "text": [
      "1332.2400424121802\n",
      "1254.0\n",
      "55387.0\n"
     ]
    }
   ],
   "source": [
    "print(df.text.str.len().mean())\n",
    "print(df.text.str.len().median())\n",
    "print(df.text.str.len().max())"
   ]
  },
  {
   "cell_type": "code",
   "execution_count": 37,
   "metadata": {},
   "outputs": [],
   "source": [
    "# The maximum number of words to be used. (most frequent)\n",
    "MAX_NB_WORDS = 50000\n",
    "# Max number of words in each complaint.\n",
    "MAX_SEQUENCE_LENGTH = 1254\n",
    "# This is fixed.\n",
    "EMBEDDING_DIM = 100"
   ]
  },
  {
   "cell_type": "code",
   "execution_count": 109,
   "metadata": {},
   "outputs": [],
   "source": [
    "REPLACE_BY_SPACE_RE = re.compile('[/(){}\\[\\]\\|@,;]')\n",
    "BAD_SYMBOLS_RE = re.compile('[0-9a-z#+_]')\n",
    "STOPWORDS = set(stopwords.words('russian'))\n",
    "\n",
    "stemmer = Mystem()\n",
    "\n",
    "def clean_text(text):\n",
    "    try: \n",
    "        text = text.lower() # lowercase text\n",
    "    except: \n",
    "        text = str(text).lower()\n",
    "    text = REPLACE_BY_SPACE_RE.sub(' ', text)\n",
    "    text = BAD_SYMBOLS_RE.sub('', text)\n",
    "    text = text.replace('x', '')\n",
    "    text = \" \".join(stemmer.lemmatize(word)[0] for word in text.split() if word not in STOPWORDS)\n",
    "    return text"
   ]
  },
  {
   "cell_type": "code",
   "execution_count": null,
   "metadata": {},
   "outputs": [],
   "source": [
    "stemmer = Mystem()\n",
    "def read_text_dataframe_generator():\n",
    "    x = []\n",
    "    for row in df['text']:\n",
    "        x.append(clean_text(row))\n",
    "    return x\n",
    "\n",
    "X = read_text_dataframe_generator()"
   ]
  },
  {
   "cell_type": "code",
   "execution_count": null,
   "metadata": {},
   "outputs": [],
   "source": [
    "tokenizer = Tokenizer(num_words=MAX_NB_WORDS, filters='!\"#$%&()*+,-./:;<=>?@[\\]^_`{|}~', lower=True)"
   ]
  },
  {
   "cell_type": "code",
   "execution_count": null,
   "metadata": {},
   "outputs": [],
   "source": [
    "tokenizer.fit_on_texts(X)"
   ]
  },
  {
   "cell_type": "code",
   "execution_count": null,
   "metadata": {},
   "outputs": [],
   "source": [
    "with open('data/tokenizer_lenta.dump', 'wb') as file:\n",
    "    pickle.dump(tokenizer, file)"
   ]
  },
  {
   "cell_type": "code",
   "execution_count": null,
   "metadata": {},
   "outputs": [],
   "source": []
  }
 ],
 "metadata": {
  "kernelspec": {
   "display_name": "Python 3",
   "language": "python",
   "name": "python3"
  },
  "language_info": {
   "codemirror_mode": {
    "name": "ipython",
    "version": 3
   },
   "file_extension": ".py",
   "mimetype": "text/x-python",
   "name": "python",
   "nbconvert_exporter": "python",
   "pygments_lexer": "ipython3",
   "version": "3.6.9"
  }
 },
 "nbformat": 4,
 "nbformat_minor": 4
}
